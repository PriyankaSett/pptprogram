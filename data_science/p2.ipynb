{
 "cells": [
  {
   "cell_type": "markdown",
   "id": "1097fa25",
   "metadata": {},
   "source": [
    "### \n",
    "18. Implement a decorator function called ‘timer’ that measures the execution time of a function. The ‘timer’ decorator should print the time taken by the decorated function to execute. Use the ‘time’ module in Python to calculate the execution time.  \n",
    "\n",
    "    Example:  \n",
    "\n",
    "    import time  \n",
    " \n",
    "    @timer  \n",
    "    def my_function():  \n",
    "        # Function code goes here  \n",
    "        time.sleep(2)  \n",
    "\n",
    "    my_function()  \n",
    "\n",
    "    Output:  \n",
    "    \"Execution time: 2.00123 seconds\"  "
   ]
  },
  {
   "cell_type": "code",
   "execution_count": 1,
   "id": "6f37a432",
   "metadata": {},
   "outputs": [],
   "source": [
    "import time"
   ]
  },
  {
   "cell_type": "code",
   "execution_count": 2,
   "id": "73fd3298",
   "metadata": {},
   "outputs": [
    {
     "name": "stdout",
     "output_type": "stream",
     "text": [
      "Excecution time :  2.0011 seconds\n",
      "Even numbers in [1, 2, 3, 4, 5, 6, 7, 8, 9] : [2, 4, 6, 8]\n"
     ]
    }
   ],
   "source": [
    "def timer(func): \n",
    "    def time_wrapper(*args, **kwargs): \n",
    "        \n",
    "        start_time = time.time()\n",
    "        \n",
    "        func_value = func(*args, **kwargs)\n",
    "        \n",
    "        end_time = time.time()\n",
    "        \n",
    "        delta_time  = end_time - start_time\n",
    "        \n",
    "        print(f'Excecution time :  {delta_time:.4f} seconds')\n",
    "        \n",
    "        return func_value\n",
    "    \n",
    "    return time_wrapper\n",
    "    \n",
    "@timer   \n",
    "def get_even(mylist):\n",
    "    nl = [e for e in mylist if e%2 == 0]\n",
    "    time.sleep(2)\n",
    "    return nl\n",
    "\n",
    "ml = [1,2,3,4,5,6,7,8,9]\n",
    "\n",
    "print(f'Even numbers in {ml} : {get_even(ml)}')\n",
    "    "
   ]
  },
  {
   "cell_type": "code",
   "execution_count": null,
   "id": "8e3fb6f6",
   "metadata": {},
   "outputs": [],
   "source": []
  },
  {
   "cell_type": "code",
   "execution_count": null,
   "id": "fca4858c",
   "metadata": {},
   "outputs": [],
   "source": []
  }
 ],
 "metadata": {
  "kernelspec": {
   "display_name": "Python 3",
   "language": "python",
   "name": "python3"
  },
  "language_info": {
   "codemirror_mode": {
    "name": "ipython",
    "version": 3
   },
   "file_extension": ".py",
   "mimetype": "text/x-python",
   "name": "python",
   "nbconvert_exporter": "python",
   "pygments_lexer": "ipython3",
   "version": "3.8.8"
  }
 },
 "nbformat": 4,
 "nbformat_minor": 5
}
