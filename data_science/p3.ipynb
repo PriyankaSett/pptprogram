{
 "cells": [
  {
   "cell_type": "markdown",
   "id": "3cfbf5b1",
   "metadata": {},
   "source": [
    "###    \n",
    "\n",
    "19. Write a function called ‘calculate_mean’ that takes a list of numbers as input and returns the mean (average) of the numbers. The function should calculate the mean using the sum of the numbers divided by the total count.\n",
    "\n",
    "Example:  \n",
    "\n",
    "def calculate_mean(numbers):  \n",
    "    total = sum(numbers)  \n",
    "    count = len(numbers)  \n",
    "    mean = total / count  \n",
    "    return mean  \n",
    "\n",
    "data = [10, 15, 20, 25, 30]  \n",
    "mean_value = calculate_mean(data)  \n",
    "print(\"Mean:\", mean_value)  \n",
    "\n",
    "Output: \n",
    "Mean: 20.0  "
   ]
  },
  {
   "cell_type": "code",
   "execution_count": 1,
   "id": "23037117",
   "metadata": {},
   "outputs": [
    {
     "name": "stdout",
     "output_type": "stream",
     "text": [
      "Mean of [10, 15, 20, 25, 30] : 20.0\n"
     ]
    }
   ],
   "source": [
    "def cal_mean(numlist): \n",
    "    total = sum(numlist)\n",
    "    no = len(numlist)\n",
    "    mean = total/no \n",
    "    return mean\n",
    "\n",
    "numlist = [10,15,20,25,30]\n",
    "\n",
    "print(f'Mean of {numlist} : {cal_mean(numlist)}')"
   ]
  },
  {
   "cell_type": "code",
   "execution_count": null,
   "id": "bb472ca5",
   "metadata": {},
   "outputs": [],
   "source": []
  }
 ],
 "metadata": {
  "kernelspec": {
   "display_name": "Python 3",
   "language": "python",
   "name": "python3"
  },
  "language_info": {
   "codemirror_mode": {
    "name": "ipython",
    "version": 3
   },
   "file_extension": ".py",
   "mimetype": "text/x-python",
   "name": "python",
   "nbconvert_exporter": "python",
   "pygments_lexer": "ipython3",
   "version": "3.8.8"
  }
 },
 "nbformat": 4,
 "nbformat_minor": 5
}
