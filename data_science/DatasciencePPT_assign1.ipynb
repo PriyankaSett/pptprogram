{
 "cells": [
  {
   "cell_type": "markdown",
   "id": "1d466bb4",
   "metadata": {},
   "source": [
    "##   \n",
    "\n",
    "\n",
    "1. Write a Python program to reverse a string without using any built-in string reversal functions."
   ]
  },
  {
   "cell_type": "code",
   "execution_count": 1,
   "id": "622a0a2f",
   "metadata": {},
   "outputs": [
    {
     "name": "stdout",
     "output_type": "stream",
     "text": [
      "Input string : elephant\n",
      "Reverse string : tnahpele\n"
     ]
    }
   ],
   "source": [
    "def string_reverse(mystring): \n",
    "    mystr = mystring\n",
    "    mylist = [e for e in mystr]\n",
    "    revlist = mylist[::-1]\n",
    "    revstr = ''.join(revlist)\n",
    "    return revstr\n",
    "\n",
    "\n",
    "mystring = 'elephant'\n",
    "print(f'Input string : {mystring}')\n",
    "print(f'Reverse string : {string_reverse(mystring)}')"
   ]
  },
  {
   "cell_type": "markdown",
   "id": "6d9250e0",
   "metadata": {},
   "source": [
    "2. Implement a function to check if a given string is a palindrome."
   ]
  },
  {
   "cell_type": "code",
   "execution_count": 2,
   "id": "a87e72ab",
   "metadata": {},
   "outputs": [
    {
     "name": "stdout",
     "output_type": "stream",
     "text": [
      "radar is palindrome : True\n",
      "peep is palindrome : True\n",
      "radar is palindrome : False\n"
     ]
    }
   ],
   "source": [
    "def is_palindrome(mystr): \n",
    "    mystr = mystr.lower()\n",
    "    revstr = mystr[::-1]\n",
    "    if revstr == mystr :\n",
    "        return True\n",
    "    return False \n",
    "\n",
    "ms1 = 'radar'\n",
    "ms2 = 'peep'\n",
    "ms3 = 'peek'\n",
    "\n",
    "print(f'{ms1} is palindrome : {is_palindrome(ms1)}')\n",
    "print(f'{ms2} is palindrome : {is_palindrome(ms2)}')\n",
    "print(f'{ms1} is palindrome : {is_palindrome(ms3)}')"
   ]
  },
  {
   "cell_type": "markdown",
   "id": "e184bfe9",
   "metadata": {},
   "source": [
    "3. Write a program to find the largest element in a given list."
   ]
  },
  {
   "cell_type": "code",
   "execution_count": 3,
   "id": "ce57528c",
   "metadata": {},
   "outputs": [
    {
     "name": "stdout",
     "output_type": "stream",
     "text": [
      "Method 1 - comparing each element : 9\n",
      "Method 2 - using \"max\" function : 9\n",
      "Method 3 - using sorting method : 9 \n"
     ]
    }
   ],
   "source": [
    "## Method 1 : \n",
    "def get_largest(mylist): \n",
    "    list1 = mylist\n",
    "    \n",
    "    largest = list1[0]\n",
    "    \n",
    "    for i in list1 : \n",
    "        if i > largest : \n",
    "            largest = i\n",
    "    \n",
    "    return largest        \n",
    "\n",
    "\n",
    "mylist = [4,6,1,3,7,9,5,2]\n",
    "    \n",
    "print(f'Method 1 - comparing each element : {get_largest(mylist)}')\n",
    "\n",
    "\n",
    "\n",
    "## Method 2 : \n",
    "\n",
    "print(f'Method 2 - using \"max\" function : {max(mylist)}')\n",
    "\n",
    "\n",
    "\n",
    "## Method 3 : \n",
    "\n",
    "print(f'Method 3 - using sorting method : {sorted(mylist)[-1]} ')\n"
   ]
  },
  {
   "cell_type": "markdown",
   "id": "e1926886",
   "metadata": {},
   "source": [
    "4. Implement a function to count the occurrence of each element in a list."
   ]
  },
  {
   "cell_type": "code",
   "execution_count": 4,
   "id": "95463bd3",
   "metadata": {},
   "outputs": [
    {
     "name": "stdout",
     "output_type": "stream",
     "text": [
      "Method 1\n",
      "Count for 3 in [1, 3, 4, 2, 3, 5, 1, 6, 2, 3, 4] is : 3\n",
      "Method 2\n",
      "Count for 3 in [1, 3, 4, 2, 3, 5, 1, 6, 2, 3, 4] is : 3\n"
     ]
    }
   ],
   "source": [
    "# Method 1 : \n",
    "def count_element(mylist1, num): \n",
    "    count = mylist1.count(num)\n",
    "    return count\n",
    "\n",
    "\n",
    "mylist1 = [1,3,4,2,3,5,1,6,2,3,4]\n",
    "num  = 3 \n",
    "print('Method 1')\n",
    "print(f'Count for {num} in {mylist1} is : {count_element(mylist1, num)}')\n",
    "\n",
    "\n",
    "# Method 2 : \n",
    "def count_element_2(mylist1, num): \n",
    "    count = 0 \n",
    "    for ele in mylist1: \n",
    "        if num == ele :\n",
    "            count = count + 1\n",
    "    return count    \n",
    "    \n",
    "    \n",
    "print('Method 2')    \n",
    "print(f'Count for {num} in {mylist1} is : {count_element_2(mylist1, num)}')"
   ]
  },
  {
   "cell_type": "markdown",
   "id": "de226a0f",
   "metadata": {},
   "source": [
    "5. Write a Python program to find the second largest number in a list."
   ]
  },
  {
   "cell_type": "code",
   "execution_count": 5,
   "id": "fb9a523e",
   "metadata": {},
   "outputs": [
    {
     "name": "stdout",
     "output_type": "stream",
     "text": [
      "Second largest number in [31, 65, 21, 90, 32, 87, 43, 78, 56] : 87\n"
     ]
    }
   ],
   "source": [
    "def find_second_largest(mylist2): \n",
    "    second_largest = sorted(mylist2)[-2]\n",
    "    return second_largest\n",
    "\n",
    "\n",
    "mylist2 = [31, 65, 21, 90, 32, 87, 43, 78, 56]\n",
    "print(f'Second largest number in {mylist2} : {find_second_largest(mylist2)}')"
   ]
  },
  {
   "cell_type": "markdown",
   "id": "832fee01",
   "metadata": {},
   "source": [
    "6. Implement a function to remove duplicate elements from a list."
   ]
  },
  {
   "cell_type": "code",
   "execution_count": 6,
   "id": "683d6727",
   "metadata": {},
   "outputs": [
    {
     "name": "stdout",
     "output_type": "stream",
     "text": [
      "Original list : [23, 67, 89, 32, 12, 89, 90, 32, 90, 12, 23]\n",
      "List after removing the duplicates : [32, 67, 12, 23, 89, 90]\n"
     ]
    }
   ],
   "source": [
    "def remove_duplicate(mylist3): \n",
    "    nl = set(mylist3)\n",
    "    return list(nl)\n",
    "\n",
    "\n",
    "mylist3 = [23, 67, 89, 32, 12, 89, 90, 32, 90, 12, 23]\n",
    "\n",
    "print(f'Original list : {mylist3}')\n",
    "print(f'List after removing the duplicates : {remove_duplicate(mylist3)}')"
   ]
  },
  {
   "cell_type": "markdown",
   "id": "aecdf546",
   "metadata": {},
   "source": [
    "7. Write a program to calculate the factorial of a given number."
   ]
  },
  {
   "cell_type": "code",
   "execution_count": 7,
   "id": "e2f781f9",
   "metadata": {},
   "outputs": [
    {
     "name": "stdout",
     "output_type": "stream",
     "text": [
      "Method 1 - using n(n-1)(n-2)....3.2.1\n",
      "Factorial of 5 is : 120\n",
      "Method 2 - using recursion function\n",
      "Factorial of 5 is : 120\n"
     ]
    }
   ],
   "source": [
    "\n",
    "# Method 1 \n",
    "def get_factorial(number): \n",
    "    mult = 1\n",
    "    for i in range(1,number+1): \n",
    "        mult = mult * i\n",
    "    return mult\n",
    "\n",
    "number = 5\n",
    "print('Method 1 - using n(n-1)(n-2)....3.2.1')\n",
    "print(f'Factorial of {number} is : {get_factorial(number)}')\n",
    "\n",
    "\n",
    "\n",
    "\n",
    "\n",
    "#Method 2 : \n",
    "def get_fact(number): \n",
    "    if number == 1: \n",
    "        return number\n",
    "    else : \n",
    "        return number*get_fact(number -1)    \n",
    "    \n",
    "print('Method 2 - using recursion function')\n",
    "print(f'Factorial of {number} is : {get_fact(number)}')"
   ]
  },
  {
   "cell_type": "markdown",
   "id": "681c27ef",
   "metadata": {},
   "source": [
    "8. Implement a function to check if a given number is prime."
   ]
  },
  {
   "cell_type": "code",
   "execution_count": 8,
   "id": "fa830468",
   "metadata": {},
   "outputs": [
    {
     "name": "stdout",
     "output_type": "stream",
     "text": [
      "Check if 67 is prime : True\n",
      "Check if 66 is prime : False\n"
     ]
    }
   ],
   "source": [
    "def is_prime(num): \n",
    "    for i in range(2, num):\n",
    "        if (num%i) == 0 : \n",
    "            return False\n",
    "            break\n",
    "    return True\n",
    "        \n",
    "      \n",
    "    \n",
    "num1 = 67\n",
    "num2 = 66\n",
    "\n",
    "print(f'Check if {num1} is prime : {is_prime(num1)}')\n",
    "print(f'Check if {num2} is prime : {is_prime(num2)}')"
   ]
  },
  {
   "cell_type": "markdown",
   "id": "72ff0baa",
   "metadata": {},
   "source": [
    "9. Write a Python program to sort a list of integers in ascending order."
   ]
  },
  {
   "cell_type": "code",
   "execution_count": 9,
   "id": "6e006914",
   "metadata": {},
   "outputs": [
    {
     "name": "stdout",
     "output_type": "stream",
     "text": [
      "Original list : [2, 5, 1, 8, 3, 4]\n",
      "List in ascending order : [1, 2, 3, 4, 5, 8]\n"
     ]
    }
   ],
   "source": [
    "def get_asending(numlist): \n",
    "    sortedlist = list(sorted(numlist))\n",
    "    return sortedlist\n",
    "\n",
    "mylist4 = [2,5,1,8,3,4]\n",
    "print(f'Original list : {mylist4}')\n",
    "print(f'List in ascending order : {get_asending(mylist4)}')"
   ]
  },
  {
   "cell_type": "markdown",
   "id": "e225ad03",
   "metadata": {},
   "source": [
    "10. Implement a function to find the sum of all numbers in a list."
   ]
  },
  {
   "cell_type": "code",
   "execution_count": 10,
   "id": "62df1f39",
   "metadata": {},
   "outputs": [
    {
     "name": "stdout",
     "output_type": "stream",
     "text": [
      "Method 1\n",
      "Sum of elements in [2, 5, 1, 8, 3, 4]: 23\n",
      "Method 2\n",
      "Sum of elements in [2, 5, 1, 8, 3, 4]: 23\n"
     ]
    }
   ],
   "source": [
    "# Method 1 - summing one by one \n",
    "def get_sum1(numlist): \n",
    "    sum1 = 0 \n",
    "    for i in numlist : \n",
    "        sum1 = sum1 + i\n",
    "    return sum1\n",
    "\n",
    "# Method 2 - using inbuilt sum function\n",
    "\n",
    "def get_sum2(numlist): \n",
    "    sum2 = sum(numlist)\n",
    "    return sum2\n",
    "\n",
    "\n",
    "print(f'Method 1')\n",
    "print(f'Sum of elements in {mylist4}: {get_sum1(mylist4)}')\n",
    "\n",
    "print(f'Method 2')\n",
    "print(f'Sum of elements in {mylist4}: {get_sum2(mylist4)}')"
   ]
  },
  {
   "cell_type": "markdown",
   "id": "4b8971cb",
   "metadata": {},
   "source": [
    "11. Write a program to find the common elements between two lists."
   ]
  },
  {
   "cell_type": "code",
   "execution_count": 11,
   "id": "e85439fe",
   "metadata": {},
   "outputs": [
    {
     "name": "stdout",
     "output_type": "stream",
     "text": [
      "Common elements in [22, 89, 34, 21, 67, 77, 56, 39] and [11, 56, 22, 90, 43, 89, 40, 21] : {56, 89, 21, 22}\n",
      "Common elements in [22, 89, 34, 21, 67, 77, 56, 39] and [33, 50, 78, 90, 20] : None\n"
     ]
    }
   ],
   "source": [
    "def get_common(l1, l2): \n",
    "    set_l1 = set(l1)\n",
    "    set_l2 = set(l2)\n",
    "    \n",
    "    if set_l1 & set_l2: \n",
    "        common_num = set_l1 & set_l2\n",
    "        return common_num\n",
    "    else : \n",
    "        return None\n",
    "    \n",
    "    \n",
    "list1 = [22, 89, 34, 21, 67, 77, 56, 39]\n",
    "list2 = [11, 56, 22, 90, 43, 89, 40, 21]\n",
    "list3 = [33, 50, 78, 90, 20]\n",
    "\n",
    "print(f'Common elements in {list1} and {list2} : {get_common(list1, list2)}')\n",
    "print(f'Common elements in {list1} and {list3} : {get_common(list1, list3)}')"
   ]
  },
  {
   "cell_type": "markdown",
   "id": "ed1d0097",
   "metadata": {},
   "source": [
    "12. Implement a function to check if a given string is an anagram of another string."
   ]
  },
  {
   "cell_type": "code",
   "execution_count": 12,
   "id": "c5ef3d77",
   "metadata": {},
   "outputs": [
    {
     "name": "stdout",
     "output_type": "stream",
     "text": [
      "If beak and cake are anagrams : False\n",
      "If beak and bake are anagrams : True\n",
      "If cake and bake are anagrams : False\n"
     ]
    }
   ],
   "source": [
    "def is_anagram(w1,w2): \n",
    "    l1 = [i for i in w1]\n",
    "    l2 = [i for i in w2]\n",
    "    l1 = sorted(l1)\n",
    "    l2 = sorted(l2)\n",
    "    if l1 == l2 : \n",
    "        return True\n",
    "    return False\n",
    "\n",
    "word1 = 'beak'\n",
    "word2 = 'cake'\n",
    "word3 = 'bake'\n",
    "\n",
    "print(f'If {word1} and {word2} are anagrams : {is_anagram(word1, word2)}')\n",
    "print(f'If {word1} and {word3} are anagrams : {is_anagram(word1, word3)}')\n",
    "print(f'If {word2} and {word3} are anagrams : {is_anagram(word2, word3)}')\n",
    "    "
   ]
  },
  {
   "cell_type": "markdown",
   "id": "ee951f4d",
   "metadata": {},
   "source": [
    "13. Write a Python program to generate all permutations of a given string."
   ]
  },
  {
   "cell_type": "code",
   "execution_count": 13,
   "id": "aa719041",
   "metadata": {},
   "outputs": [
    {
     "name": "stdout",
     "output_type": "stream",
     "text": [
      "abc\n",
      "acb\n",
      "bac\n",
      "bca\n",
      "cba\n",
      "cab\n",
      "None\n"
     ]
    }
   ],
   "source": [
    "def get_permutation(string, i=0):\n",
    "\n",
    "    if i == len(string):   \t \n",
    "        print(\"\".join(string))\n",
    "\n",
    "    for j in range(i, len(string)):\n",
    "\n",
    "        words = [c for c in string]\n",
    "   \n",
    "        # swap\n",
    "        words[i], words[j] = words[j], words[i]\n",
    "   \t \n",
    "        get_permutation(words, i + 1)\n",
    "\n",
    "print(get_permutation('abc'))\n",
    "\n"
   ]
  },
  {
   "cell_type": "markdown",
   "id": "5b18f188",
   "metadata": {},
   "source": [
    "14. Implement a function to calculate the Fibonacci sequence up to a given number of terms."
   ]
  },
  {
   "cell_type": "code",
   "execution_count": 14,
   "id": "79c01586",
   "metadata": {},
   "outputs": [
    {
     "name": "stdout",
     "output_type": "stream",
     "text": [
      "Fibonacci Series of 10 numbers : [0, 1, 1, 2, 3, 5, 8, 13, 21, 34, 55]\n"
     ]
    }
   ],
   "source": [
    "def get_fibo(n):\n",
    "    flist = list()\n",
    "    n1 = 0 \n",
    "    n2 = 1\n",
    "    for i in range(n+1): \n",
    "        #print(i)\n",
    "        if i == 0 :   \n",
    "            flist.append(n1)\n",
    "        elif i == 1: \n",
    "            flist.append(n2)\n",
    "        else : \n",
    "            n1 = flist[i-2]\n",
    "            n2 = flist[i-1]\n",
    "            flist.append(n1+n2)           \n",
    "            \n",
    "            \n",
    "    return flist\n",
    "    \n",
    "n_terms = 10\n",
    "print(f'Fibonacci Series of {n_terms} numbers : {get_fibo(n_terms)}')"
   ]
  },
  {
   "cell_type": "markdown",
   "id": "45dbbf61",
   "metadata": {},
   "source": [
    "15. Write a program to find the median of a list of numbers."
   ]
  },
  {
   "cell_type": "code",
   "execution_count": 15,
   "id": "1255ad3b",
   "metadata": {},
   "outputs": [
    {
     "name": "stdout",
     "output_type": "stream",
     "text": [
      "Median of [22, 89, 34, 21, 67, 77, 56, 39] is : 47.5\n",
      "Median of [22, 89, 34, 21, 67, 77, 56, 39, 40] is : 40\n"
     ]
    }
   ],
   "source": [
    "def get_median(numlist): \n",
    "    m = len(numlist)\n",
    "    numlist = list(sorted(numlist))\n",
    "    #print(m)\n",
    "    if m%2 != 0 : \n",
    "        median = numlist[(m//2)]\n",
    "    else : \n",
    "        #t1 = numlist[(m//2) - 1]\n",
    "        #t2 = numlist[(m//2)]\n",
    "        median = (numlist[(m//2) - 1] + numlist[(m//2)])/2\n",
    "    return median\n",
    "\n",
    "nl1 = [22, 89, 34, 21, 67, 77, 56, 39]\n",
    "nl2 = [22, 89, 34, 21, 67, 77, 56, 39, 40]\n",
    "\n",
    "print(f'Median of {nl1} is : {get_median(nl1)}')\n",
    "print(f'Median of {nl2} is : {get_median(nl2)}')\n",
    "\n"
   ]
  },
  {
   "cell_type": "markdown",
   "id": "68332e5d",
   "metadata": {},
   "source": [
    "16. Implement a function to check if a given list is sorted in non-decreasing order."
   ]
  },
  {
   "cell_type": "code",
   "execution_count": 16,
   "id": "9c5a3847",
   "metadata": {},
   "outputs": [
    {
     "name": "stdout",
     "output_type": "stream",
     "text": [
      "[4, 1, 6, 2, 7, 8, 9] is sorted : False\n",
      "[1, 2, 3, 4, 5] is sorted : True\n"
     ]
    }
   ],
   "source": [
    "def is_list_sorted(mylist): \n",
    "    mylist1 = list(sorted(mylist))\n",
    "    if mylist1 == mylist: \n",
    "        return True\n",
    "    return False\n",
    "\n",
    "l1 = [4,1,6,2,7,8,9]\n",
    "l2 = [1,2,3,4,5]\n",
    "\n",
    "print(f'{l1} is sorted : {is_list_sorted(l1)}')\n",
    "print(f'{l2} is sorted : {is_list_sorted(l2)}')"
   ]
  },
  {
   "cell_type": "markdown",
   "id": "46ae8cb9",
   "metadata": {},
   "source": [
    "17. Write a Python program to find the intersection of two lists."
   ]
  },
  {
   "cell_type": "code",
   "execution_count": 17,
   "id": "a389271a",
   "metadata": {},
   "outputs": [
    {
     "name": "stdout",
     "output_type": "stream",
     "text": [
      "Intersection of [4, 9, 1, 17, 11, 26, 28, 54, 69] and [9, 9, 74, 21, 45, 11, 63, 28, 26] : [9, 11, 26, 28]\n"
     ]
    }
   ],
   "source": [
    "def get_list_intersection(l1, l2): \n",
    "    l3 = [e for e in l1 if e in l2]\n",
    "    return l3\n",
    "\n",
    "\n",
    "lst1 = [4, 9, 1, 17, 11, 26, 28, 54, 69]\n",
    "lst2 = [9, 9, 74, 21, 45, 11, 63, 28, 26]\n",
    "print(f'Intersection of {lst1} and {lst2} : {get_list_intersection(lst1, lst2)}')"
   ]
  },
  {
   "cell_type": "markdown",
   "id": "12473749",
   "metadata": {},
   "source": [
    "18. Implement a function to find the maximum subarray sum in a given list."
   ]
  },
  {
   "cell_type": "code",
   "execution_count": null,
   "id": "a2a27e06",
   "metadata": {},
   "outputs": [],
   "source": []
  },
  {
   "cell_type": "markdown",
   "id": "5b58cfa2",
   "metadata": {},
   "source": [
    "19. Write a program to remove all vowels from a given string."
   ]
  },
  {
   "cell_type": "code",
   "execution_count": 18,
   "id": "0ac07d8c",
   "metadata": {},
   "outputs": [
    {
     "name": "stdout",
     "output_type": "stream",
     "text": [
      "original word : elephant\n",
      "word after removing vowels : lphnt\n"
     ]
    }
   ],
   "source": [
    "vlist = ['a', 'e', 'i', 'o', 'u']\n",
    "\n",
    "w = 'elephant'\n",
    "\n",
    "wlist = [e for e in w]\n",
    "\n",
    "nvlist = list()\n",
    "\n",
    "for i in wlist:\n",
    "    if i not in vlist: \n",
    "        nvlist.append(i)\n",
    "        \n",
    "w_nv = ''.join(nvlist)\n",
    "\n",
    "print(f'original word : {w}')\n",
    "print(f'word after removing vowels : {w_nv}')\n"
   ]
  },
  {
   "cell_type": "markdown",
   "id": "7a9f1bfc",
   "metadata": {},
   "source": [
    "20. Implement a function to reverse the order of words in a given sentence."
   ]
  },
  {
   "cell_type": "code",
   "execution_count": 19,
   "id": "5e9ff32b",
   "metadata": {},
   "outputs": [
    {
     "name": "stdout",
     "output_type": "stream",
     "text": [
      "Reverse of sentence This is a cat : cat a is This\n"
     ]
    }
   ],
   "source": [
    "def reverse_order(sent): \n",
    "    list1 = sent.split()\n",
    "    revsent = ' '.join(list1[::-1])\n",
    "    return revsent\n",
    "\n",
    "\n",
    "sent = 'This is a cat'\n",
    "print(f'Reverse of sentence {sent} : {reverse_order(sent)}')"
   ]
  },
  {
   "cell_type": "markdown",
   "id": "37687d5a",
   "metadata": {},
   "source": [
    "21. Write a Python program to check if two strings are anagrams of each other."
   ]
  },
  {
   "cell_type": "code",
   "execution_count": 20,
   "id": "6a54cf1d",
   "metadata": {},
   "outputs": [
    {
     "name": "stdout",
     "output_type": "stream",
     "text": [
      "If beak and cake are anagrams : False\n",
      "If beak and bake are anagrams : True\n",
      "If cake and bake are anagrams : False\n"
     ]
    }
   ],
   "source": [
    "def is_anagram(w1,w2): \n",
    "    l1 = [i for i in w1]\n",
    "    l2 = [i for i in w2]\n",
    "    l1 = sorted(l1)\n",
    "    l2 = sorted(l2)\n",
    "    if l1 == l2 : \n",
    "        return True\n",
    "    return False\n",
    "\n",
    "word1 = 'beak'\n",
    "word2 = 'cake'\n",
    "word3 = 'bake'\n",
    "\n",
    "print(f'If {word1} and {word2} are anagrams : {is_anagram(word1, word2)}')\n",
    "print(f'If {word1} and {word3} are anagrams : {is_anagram(word1, word3)}')\n",
    "print(f'If {word2} and {word3} are anagrams : {is_anagram(word2, word3)}')\n",
    "    "
   ]
  },
  {
   "cell_type": "markdown",
   "id": "b0b365b9",
   "metadata": {},
   "source": [
    "22. Implement a function to find the first non-repeating character in a string."
   ]
  },
  {
   "cell_type": "code",
   "execution_count": 21,
   "id": "3185c9df",
   "metadata": {},
   "outputs": [
    {
     "name": "stdout",
     "output_type": "stream",
     "text": [
      "First non-repeating character in address : a\n",
      "First non-repeating character in llama : m\n"
     ]
    }
   ],
   "source": [
    "def get_first_nonrepeat_character(s1): \n",
    "    ml = [l for l in s1]\n",
    "    \n",
    "    for i in ml: \n",
    "        #print(ml.count(i))\n",
    "        if ml.count(i) == 1: \n",
    "            return i\n",
    "            break\n",
    "\n",
    "\n",
    "mstr1 = 'address'\n",
    "mstr2 = 'llama'\n",
    "print(f'First non-repeating character in {mstr1} : {get_first_nonrepeat_character(mstr1)}')\n",
    "print(f'First non-repeating character in {mstr2} : {get_first_nonrepeat_character(mstr2)}')\n"
   ]
  },
  {
   "cell_type": "markdown",
   "id": "56a760f4",
   "metadata": {},
   "source": [
    "23. Write a program to find the prime factors of a given number."
   ]
  },
  {
   "cell_type": "code",
   "execution_count": 22,
   "id": "c65e8012",
   "metadata": {},
   "outputs": [
    {
     "name": "stdout",
     "output_type": "stream",
     "text": [
      "Prime factors for 88 : [2, 11]\n",
      "Prime factors for 45 : [3, 5]\n",
      "Prime factors for 29 : [29]\n",
      "Prime factors for 6 : [2, 3]\n"
     ]
    }
   ],
   "source": [
    "def get_prime_factors(num): \n",
    "    \n",
    "    pnlist = list()\n",
    "    \n",
    "    for i in range(2,num+1): \n",
    "        pn = num%i\n",
    "        #print(num, i, pn)\n",
    "        if(pn != 0): \n",
    "            continue\n",
    "        else : \n",
    "            if is_prime(i) == True : ## This function is already there in this notebook. Problem - 8\n",
    "                pnlist.append(i)\n",
    "    return pnlist\n",
    "\n",
    "mynum1 = 88 \n",
    "mynum2 = 45\n",
    "mynum3 = 29\n",
    "mynum4 = 6\n",
    "print(f'Prime factors for {mynum1} : {get_prime_factors(mynum1)}')\n",
    "print(f'Prime factors for {mynum2} : {get_prime_factors(mynum2)}')\n",
    "print(f'Prime factors for {mynum3} : {get_prime_factors(mynum3)}')\n",
    "print(f'Prime factors for {mynum4} : {get_prime_factors(mynum4)}')\n"
   ]
  },
  {
   "cell_type": "markdown",
   "id": "6cf4f2c9",
   "metadata": {},
   "source": [
    "24. Implement a function to check if a given number is a power of two."
   ]
  },
  {
   "cell_type": "code",
   "execution_count": 23,
   "id": "bcd53cf2",
   "metadata": {},
   "outputs": [
    {
     "name": "stdout",
     "output_type": "stream",
     "text": [
      "22 is a power of 2 : False\n",
      "32 is a power of 2 : True\n"
     ]
    }
   ],
   "source": [
    "def is_powerof_2(num): \n",
    "    fl = get_prime_factors(num)\n",
    "    if len(fl) == 1 and fl[0] == 2: \n",
    "        return True\n",
    "    else: \n",
    "        return False\n",
    "    \n",
    "num1 = 22\n",
    "num2 = 32\n",
    "print(f'{num1} is a power of 2 : {is_powerof_2(num1)}')\n",
    "print(f'{num2} is a power of 2 : {is_powerof_2(num2)}')"
   ]
  },
  {
   "cell_type": "markdown",
   "id": "7c98f923",
   "metadata": {},
   "source": [
    "25. Write a Python program to merge two sorted lists into a single sorted list."
   ]
  },
  {
   "cell_type": "code",
   "execution_count": 24,
   "id": "f3a0a40e",
   "metadata": {},
   "outputs": [
    {
     "name": "stdout",
     "output_type": "stream",
     "text": [
      "[1, 2, 3, 5, 6, 7, 9, 12, 23, 43, 65]\n"
     ]
    }
   ],
   "source": [
    "l1 = [2,5,1,7,3,6]\n",
    "l2 = [23,65,43,12,9]\n",
    "l1 = list(sorted(l1))\n",
    "l2 = list(sorted(l2))\n",
    "l3 = l1+l2\n",
    "print(l3)\n"
   ]
  },
  {
   "cell_type": "markdown",
   "id": "fb578db1",
   "metadata": {},
   "source": [
    "26. Implement a function to find the mode of a list of numbers."
   ]
  },
  {
   "cell_type": "code",
   "execution_count": 25,
   "id": "704effd6",
   "metadata": {},
   "outputs": [
    {
     "name": "stdout",
     "output_type": "stream",
     "text": [
      "Mode of [1, 2, 3, 4, 1, 4, 5, 1, 3, 4, 5, 6, 61, 1] : 1\n"
     ]
    }
   ],
   "source": [
    "def get_mode(l1):\n",
    "    num_count = dict()\n",
    "    for i in l1:\n",
    "        num_count[i] = l1.count(i) \n",
    "    #print(num_count)\n",
    "    #print(num_count.values())\n",
    "    max_freq = max(num_count.values())\n",
    "    mode = list(num_count.keys())[list(num_count.values()).index(max_freq)]\n",
    "    return mode\n",
    "\n",
    "myl = [1,2,3,4,1,4,5,1,3,4,5,6,61,1]\n",
    "\n",
    "print(f'Mode of {myl} : {get_mode(myl)}')"
   ]
  },
  {
   "cell_type": "markdown",
   "id": "f28158f2",
   "metadata": {},
   "source": [
    "27. Write a program to find the greatest common divisor (GCD) of two numbers."
   ]
  },
  {
   "cell_type": "code",
   "execution_count": 26,
   "id": "8289e5d0",
   "metadata": {},
   "outputs": [
    {
     "data": {
      "text/plain": [
       "12"
      ]
     },
     "execution_count": 26,
     "metadata": {},
     "output_type": "execute_result"
    }
   ],
   "source": [
    "def get_gcd(n1, n2):\n",
    "    gcdlist = list()\n",
    "    if n1 > n2 : \n",
    "        for i in range(1, n1//2): \n",
    "            if(n1%i == 0 and n2%i == 0): \n",
    "                gcdlist.append(i)\n",
    "    else : \n",
    "        for i in range(1, n2//2): \n",
    "            if(n1%i == 0 and n2%i == 0): \n",
    "                gcdlist.append(i)\n",
    "                \n",
    "    gcd = max(gcdlist)            \n",
    "    return gcd\n",
    "\n",
    "num1 = 24\n",
    "num2 = 60\n",
    "\n",
    "get_gcd(num1, num2)"
   ]
  },
  {
   "cell_type": "markdown",
   "id": "79832899",
   "metadata": {},
   "source": [
    "28. Implement a function to calculate the square root of a given number."
   ]
  },
  {
   "cell_type": "code",
   "execution_count": 27,
   "id": "b1482e4c",
   "metadata": {},
   "outputs": [
    {
     "name": "stdout",
     "output_type": "stream",
     "text": [
      "2.0\n"
     ]
    }
   ],
   "source": [
    "import math\n",
    "def get_square_root(num): \n",
    "    sqr = math.sqrt(num)\n",
    "    return sqr\n",
    "\n",
    "num1 = 4\n",
    "print(get_square_root(num1))"
   ]
  },
  {
   "cell_type": "markdown",
   "id": "270741de",
   "metadata": {},
   "source": [
    "29. Write a Python program to check if a given string is a valid palindrome ignoring non-alphanumeric characters."
   ]
  },
  {
   "cell_type": "code",
   "execution_count": 28,
   "id": "e580f923",
   "metadata": {},
   "outputs": [
    {
     "name": "stdout",
     "output_type": "stream",
     "text": [
      "madam is a palindrome : True\n",
      "mada**m is a palindrome : True\n",
      "race a car is a palindrome : False\n",
      "0%madam0 is a palindrome : True\n"
     ]
    }
   ],
   "source": [
    "def is_palindrome2(str1): \n",
    "    myli1 = [e for e in str1]\n",
    "    myli2 = list()\n",
    "    for ele in myli1: \n",
    "        if ele.isalpha() or ele.isnumeric(): \n",
    "            myli2.append(ele)\n",
    "            \n",
    "    myli3 = myli2[::-1]\n",
    "    if myli2 == myli3 :\n",
    "        return True\n",
    "    return False\n",
    "\n",
    "st1 = 'madam'\n",
    "st2 = 'mada**m'\n",
    "st3 = 'race a car'\n",
    "st4 = '0%madam0'\n",
    "\n",
    "\n",
    "print(f'{st1} is a palindrome : {is_palindrome2(st1)}')\n",
    "print(f'{st2} is a palindrome : {is_palindrome2(st2)}')\n",
    "print(f'{st3} is a palindrome : {is_palindrome2(st3)}')\n",
    "print(f'{st4} is a palindrome : {is_palindrome2(st4)}')\n",
    "\n"
   ]
  },
  {
   "cell_type": "markdown",
   "id": "c8e8847c",
   "metadata": {},
   "source": [
    "30. Implement a function to find the minimum element in a rotated sorted list."
   ]
  },
  {
   "cell_type": "code",
   "execution_count": 29,
   "id": "a3bbb1bb",
   "metadata": {},
   "outputs": [
    {
     "name": "stdout",
     "output_type": "stream",
     "text": [
      "length of string : 8\n",
      "Mininum number in list : 1\n",
      "Method 1\n",
      "Index for [6, 7, 8, 1, 2, 3, 4, 5] : 3\n",
      "Index for [5, 6, 7, 8, 1, 2, 3, 4] : 4\n",
      "Index for [4, 5, 6, 7, 8, 1, 2, 3] : 5\n",
      "Index for [3, 4, 5, 6, 7, 8, 1, 2] : 6\n",
      "Index for [2, 3, 4, 5, 6, 7, 8, 1] : 7\n",
      "Index for [7, 8, 1, 2, 3, 4, 5, 6] : 2\n",
      "Index for [8, 1, 2, 3, 4, 5, 6, 7] : 1\n",
      "**********************************************************************\n",
      "Method 2\n",
      "Index for [6, 7, 8, 1, 2, 3, 4, 5] : 3\n",
      "Index for [5, 6, 7, 8, 1, 2, 3, 4] : 4\n",
      "Index for [4, 5, 6, 7, 8, 1, 2, 3] : 5\n",
      "Index for [3, 4, 5, 6, 7, 8, 1, 2] : 6\n",
      "Index for [2, 3, 4, 5, 6, 7, 8, 1] : 7\n",
      "Index for [7, 8, 1, 2, 3, 4, 5, 6] : 2\n",
      "Index for [8, 1, 2, 3, 4, 5, 6, 7] : 1\n"
     ]
    }
   ],
   "source": [
    "#sl1 = [3,4,5,6,7,8,9,1,2]\n",
    "#sl1 = [9,10,11,12,13,1,2,3,4,5,6,7,8]\n",
    "#sl1 = [7,8,1,2,3,4,5,6]\n",
    "\n",
    "sl1 = [6,7,8,1,2,3,4,5]\n",
    "sl2 = [5,6,7,8,1,2,3,4]\n",
    "sl3 = [4,5,6,7,8,1,2,3] \n",
    "sl4 = [3,4,5,6,7,8,1,2]\n",
    "sl5 = [2,3,4,5,6,7,8,1]\n",
    "sl6 = [7,8,1,2,3,4,5,6]\n",
    "sl7 = [8,1,2,3,4,5,6,7]\n",
    "\n",
    "lenl = len(sl1)\n",
    "list_min = min(sl1)\n",
    "print('length of string :', lenl)\n",
    "print('Mininum number in list :', list_min)\n",
    "\n",
    "    \n",
    "# Method 1:     \n",
    "def find_index(l1): \n",
    "    for i in range(len(l1)): \n",
    "        if l1[i] == list_min:\n",
    "            return i \n",
    "        \n",
    "print('Method 1')        \n",
    "print(f'Index for {sl1} : {find_index(sl1)}' )\n",
    "print(f'Index for {sl2} : {find_index(sl2)}' )\n",
    "print(f'Index for {sl3} : {find_index(sl3)}' )\n",
    "print(f'Index for {sl4} : {find_index(sl4)}' )\n",
    "print(f'Index for {sl5} : {find_index(sl5)}' )\n",
    "print(f'Index for {sl6} : {find_index(sl6)}' )\n",
    "print(f'Index for {sl7} : {find_index(sl7)}' )\n",
    "\n",
    "print('**'*35)\n",
    "        \n",
    "# Method 2 :  Binary Search    \n",
    "\n",
    "def bin_search(mylist, low, high, num): \n",
    "    if low > high : \n",
    "        return -1\n",
    "    \n",
    "    mid = (high + low)//2\n",
    "    #print(mid, mylist[mid], mylist[mid+1], mylist[mid-1])\n",
    "    \n",
    "    if mylist[mid] == num: \n",
    "        #print('mylist[mid] == num')\n",
    "        return mid \n",
    "    \n",
    "    elif mylist[mid] > mylist[mid+1] and mylist[mid] > mylist[mid-1]: \n",
    "        #print('return mid+1')\n",
    "        return (mid+1)\n",
    "    \n",
    "    else : \n",
    "        if mylist[mid] > mylist[mid-1] and mylist[mid] < mylist[mid+1]:\n",
    "            #print(mylist[mid], mylist[mid+1], mylist[mid-1])\n",
    "            l1 = mylist[0:mid]\n",
    "            l2 = mylist[mid:]\n",
    "            #print(l1)\n",
    "            #print(l2)\n",
    "            if list_min in l1 : \n",
    "                #print(l1)\n",
    "                #low = l1[0]\n",
    "                #high = len(l1)\n",
    "                #mid = (high-low)//2\n",
    "                return bin_search(mylist, low, mid+1, num)\n",
    "            else : \n",
    "                #print(l2)\n",
    "                #low = l2[0]\n",
    "                #high = len(l2)\n",
    "                #mid = (high - low)//2\n",
    "                return bin_search(mylist, mid, high, num)       \n",
    "        \n",
    "        \n",
    "#print(bin_search(sl1, 0, len(sl1)-1, list_min)\n",
    "\n",
    "print('Method 2')        \n",
    "print(f'Index for {sl1} : {bin_search(sl1, 0, len(sl1)-1, list_min)}' )\n",
    "print(f'Index for {sl2} : {bin_search(sl2, 0, len(sl2)-1, list_min)}' )\n",
    "print(f'Index for {sl3} : {bin_search(sl3, 0, len(sl3)-1, list_min)}' )\n",
    "print(f'Index for {sl4} : {bin_search(sl4, 0, len(sl4)-1, list_min)}' )\n",
    "print(f'Index for {sl5} : {bin_search(sl5, 0, len(sl5)-1, list_min)}' ) \n",
    "print(f'Index for {sl6} : {bin_search(sl6, 0, len(sl6)-1, list_min)}' )\n",
    "print(f'Index for {sl7} : {bin_search(sl7, 0, len(sl7)-1, list_min)}' )"
   ]
  },
  {
   "cell_type": "markdown",
   "id": "fab4e40f",
   "metadata": {},
   "source": [
    "31. Write a program to find the sum of all even numbers in a list."
   ]
  },
  {
   "cell_type": "code",
   "execution_count": 30,
   "id": "188db671",
   "metadata": {},
   "outputs": [
    {
     "name": "stdout",
     "output_type": "stream",
     "text": [
      "Sum of even numbers in [12, 56, 23, 45, 90, 65] : 158\n"
     ]
    }
   ],
   "source": [
    "def sum_even(numlist): \n",
    "    sum1 = 0 \n",
    "    for i in l1: \n",
    "        if i%2 == 0 : \n",
    "            sum1 = sum1+i\n",
    "    return sum1   \n",
    "    \n",
    "l1 = [12,56,23,45,90,65]\n",
    "print(f'Sum of even numbers in {l1} : {sum_even(l1)}')    "
   ]
  },
  {
   "cell_type": "markdown",
   "id": "2e43a683",
   "metadata": {},
   "source": [
    "32. Implement a function to calculate the power of a number using recursion."
   ]
  },
  {
   "cell_type": "code",
   "execution_count": 31,
   "id": "aa6f813c",
   "metadata": {},
   "outputs": [
    {
     "name": "stdout",
     "output_type": "stream",
     "text": [
      "9^3 : 729\n",
      "9^0.5 : 3.0\n",
      "9^0.33 : 2.064904772878689\n"
     ]
    }
   ],
   "source": [
    "def calc_power(num, power):\n",
    "    if power == 0: \n",
    "        return 1\n",
    "    else : \n",
    "        return (num * pow(num, power-1))\n",
    "    \n",
    "num1 = 9\n",
    "power1 = 3\n",
    "power2 = 0.5\n",
    "power3 = 0.33\n",
    "    \n",
    "print(f'{num1}^{power1} : {calc_power(num1, power1)}')\n",
    "print(f'{num1}^{power2} : {calc_power(num1, power2)}')\n",
    "print(f'{num1}^{power3} : {calc_power(num1, power3)}')    "
   ]
  },
  {
   "cell_type": "markdown",
   "id": "0b07ff37",
   "metadata": {},
   "source": [
    "33. Write a Python program to remove duplicates from a list while preserving the order."
   ]
  },
  {
   "cell_type": "code",
   "execution_count": 32,
   "id": "6b367477",
   "metadata": {},
   "outputs": [
    {
     "name": "stdout",
     "output_type": "stream",
     "text": [
      "Original list : [23, 67, 89, 32, 12, 89, 23, 12]\n",
      "List after removing the duplicates : [67, 32]\n"
     ]
    }
   ],
   "source": [
    "def remove_duplicate_preserving_order(myl):    \n",
    "    nl1 = list()\n",
    "    for i in myl: \n",
    "        if myl.count(i) == 1:\n",
    "            nl1.append(i)  \n",
    "            \n",
    "    return list(nl1)\n",
    "\n",
    "\n",
    "mylist3 = [23, 67, 89, 32, 12, 89, 23, 12]\n",
    "\n",
    "print(f'Original list : {mylist3}')\n",
    "print(f'List after removing the duplicates : {remove_duplicate_preserving_order(mylist3)}')"
   ]
  },
  {
   "cell_type": "markdown",
   "id": "ea285e0f",
   "metadata": {},
   "source": [
    "34. Implement a function to find the longest common prefix among a list of strings."
   ]
  },
  {
   "cell_type": "code",
   "execution_count": 33,
   "id": "b6ba97e6",
   "metadata": {},
   "outputs": [
    {
     "data": {
      "text/plain": [
       "['apple', 'giggle', 'strugle']"
      ]
     },
     "execution_count": 33,
     "metadata": {},
     "output_type": "execute_result"
    }
   ],
   "source": [
    "def get_common_longest_prefix(ml): \n",
    "    ml = list(sorted(ml))\n",
    "        #for ele in ml: \n",
    "        #    if \n",
    "    pass\n",
    "    \n",
    "mstr1 = ['april', 'ape', 'apple']\n",
    "mstr2 = ['apple', 'giggle', 'strugle']\n",
    "sorted(mstr2)"
   ]
  },
  {
   "cell_type": "markdown",
   "id": "64eda11d",
   "metadata": {},
   "source": [
    "35. Write a program to check if a given number is a perfect square."
   ]
  },
  {
   "cell_type": "code",
   "execution_count": 34,
   "id": "3aa103ea",
   "metadata": {},
   "outputs": [
    {
     "name": "stdout",
     "output_type": "stream",
     "text": [
      "10901 is a perfect square number : False\n",
      "256 is a perfect square number : True\n"
     ]
    }
   ],
   "source": [
    "def is_square(num):\n",
    "    for i in range(2,num//2): \n",
    "        if i*i == num:\n",
    "            #print(i, i*i)\n",
    "            return True\n",
    "    return False\n",
    "    \n",
    "n1 = 10901\n",
    "n2 = 256\n",
    "\n",
    "print(f'{n1} is a perfect square number : {is_square(n1)}')\n",
    "print(f'{n2} is a perfect square number : {is_square(n2)}')"
   ]
  },
  {
   "cell_type": "markdown",
   "id": "5f75131c",
   "metadata": {},
   "source": [
    "36. Implement a function to calculate the product of all elements in a list."
   ]
  },
  {
   "cell_type": "code",
   "execution_count": 35,
   "id": "afa72416",
   "metadata": {},
   "outputs": [
    {
     "data": {
      "text/plain": [
       "120"
      ]
     },
     "execution_count": 35,
     "metadata": {},
     "output_type": "execute_result"
    }
   ],
   "source": [
    "import numpy as np \n",
    "\n",
    "ml1 = [1,2,3,4,5]\n",
    "prod_l = np.prod(ml1)\n",
    "prod_l"
   ]
  },
  {
   "cell_type": "code",
   "execution_count": 36,
   "id": "4adc637c",
   "metadata": {},
   "outputs": [
    {
     "name": "stdout",
     "output_type": "stream",
     "text": [
      "Product of all elements in [1, 2, 3, 4, 5] : 120\n"
     ]
    }
   ],
   "source": [
    "def prod_elements(ml): \n",
    "    p = 1\n",
    "    for i in ml: \n",
    "        p = p*i\n",
    "    return p\n",
    "\n",
    "print(f'Product of all elements in {ml1} : {prod_elements(ml1)}')\n",
    "    "
   ]
  },
  {
   "cell_type": "markdown",
   "id": "eaf84f99",
   "metadata": {},
   "source": [
    "37. Write a Python program to reverse the order of words in a sentence while preserving the word order."
   ]
  },
  {
   "cell_type": "code",
   "execution_count": 37,
   "id": "306ae94a",
   "metadata": {},
   "outputs": [
    {
     "name": "stdout",
     "output_type": "stream",
     "text": [
      "Reverse of sentence This is a cat : sihT si a tac\n"
     ]
    }
   ],
   "source": [
    "def reverse_order_sent(sent): \n",
    "    list1 = sent.split()\n",
    "    #print(list1)\n",
    "    nlist = list()\n",
    "    for l in list1: \n",
    "        nlist.append(string_reverse(l))\n",
    "    revsent = ' '.join(nlist)\n",
    "    return revsent\n",
    "\n",
    "\n",
    "sent = 'This is a cat'\n",
    "print(f'Reverse of sentence {sent} : {reverse_order_sent(sent)}')"
   ]
  },
  {
   "cell_type": "markdown",
   "id": "c853acd4",
   "metadata": {},
   "source": [
    "38. Implement a function to find the missing number in a given list of consecutive numbers."
   ]
  },
  {
   "cell_type": "code",
   "execution_count": 38,
   "id": "707423fd",
   "metadata": {},
   "outputs": [
    {
     "name": "stdout",
     "output_type": "stream",
     "text": [
      "Missed number in [10, 11, 12, 13, 15, 16, 17, 18] : 14\n"
     ]
    }
   ],
   "source": [
    "def find_the_missing_number(lis1): \n",
    "    ss = list(sorted(lis1))\n",
    "    sum_ss = np.sum(ss)\n",
    "    f = ss[0]\n",
    "    l = ss[-1]\n",
    "    summ = 0\n",
    "    for i in range(f,l+1): \n",
    "        summ = summ+i\n",
    "    missed_num = abs(summ - sum_ss)\n",
    "    return missed_num\n",
    "\n",
    "f1 = [10,11,12,13,15,16,17,18]\n",
    "print(f'Missed number in {f1} : {find_the_missing_number(f1)}')\n",
    "    "
   ]
  },
  {
   "cell_type": "markdown",
   "id": "73abf241",
   "metadata": {},
   "source": [
    "39. Write a program to find the sum of digits of a given number."
   ]
  },
  {
   "cell_type": "code",
   "execution_count": 39,
   "id": "494a299b",
   "metadata": {},
   "outputs": [
    {
     "name": "stdout",
     "output_type": "stream",
     "text": [
      "Sum of the digits in 78 : 15\n",
      "Sum of the digits in 897 : 24\n",
      "Sum of the digits in 1090 : 10\n",
      "Sum of the digits in 190890123 : 33\n"
     ]
    }
   ],
   "source": [
    "def get_sum_digits(num): \n",
    "    l1 = len(str(num))\n",
    "    dl = list()\n",
    "    while(l1 !=1): \n",
    "        #print('l1', l1)\n",
    "        #for i in range(1,l1): \n",
    "        div = 10**(l1-1)\n",
    "        d1 = num//div\n",
    "        rem = num%div\n",
    "        dl.append(d1)\n",
    "        #print(d1, rem)\n",
    "        #print(dl)\n",
    "        #print(num, l1, div, d1, rem)\n",
    "        num = rem\n",
    "        #print(num)\n",
    "        l1 = len(str(num))\n",
    "        if l1 == 1: \n",
    "            dl.append(num)\n",
    "        #print(l1)\n",
    "    digits_sum = sum(dl)    \n",
    "    return digits_sum\n",
    "\n",
    "\n",
    "n1 = 78\n",
    "n2 = 897\n",
    "n3 = 1090\n",
    "n4 = 190890123\n",
    "print(f'Sum of the digits in {n1} : {get_sum_digits(n1)}')\n",
    "print(f'Sum of the digits in {n2} : {get_sum_digits(n2)}')\n",
    "print(f'Sum of the digits in {n3} : {get_sum_digits(n3)}')\n",
    "print(f'Sum of the digits in {n4} : {get_sum_digits(n4)}')\n"
   ]
  },
  {
   "cell_type": "markdown",
   "id": "fada679a",
   "metadata": {},
   "source": [
    "40. Implement a function to check if a given string is a valid palindrome considering case sensitivity."
   ]
  },
  {
   "cell_type": "code",
   "execution_count": 40,
   "id": "c8169865",
   "metadata": {},
   "outputs": [
    {
     "name": "stdout",
     "output_type": "stream",
     "text": [
      "True\n",
      "True\n"
     ]
    }
   ],
   "source": [
    "def ispalindrome(s): \n",
    "    s = s.lower()\n",
    "    ls = [e for e in s if e.isalpha() or e.isnumeric()]\n",
    "    #print(ls)\n",
    "    ls1 = ls[::-1]\n",
    "    if ls == ls1 : \n",
    "        return True\n",
    "    return False \n",
    "\n",
    "\n",
    "sent1 = 'No lemon No melon'\n",
    "sent2 = 'Rise to vote, sir'\n",
    "print(ispalindrome(sent1))\n",
    "print(ispalindrome(sent2))"
   ]
  },
  {
   "cell_type": "markdown",
   "id": "27045438",
   "metadata": {},
   "source": [
    "41. Write a Python program to find the smallest missing positive integer in a list."
   ]
  },
  {
   "cell_type": "code",
   "execution_count": 41,
   "id": "73b2b3dd",
   "metadata": {},
   "outputs": [
    {
     "name": "stdout",
     "output_type": "stream",
     "text": [
      "Smallest missing positive number in [2, 3, 7, 6, 8, -1, -10, 15] : 1\n",
      "Smallest missing positive number in [1, 1, 0, -1, -2] : 2\n",
      "Smallest missing positive number in [2, 3, -7, 6, 8, 4, 1, -10, 15] : 5\n",
      "Smallest missing positive number in [7, 8, 9, 10] : 1\n"
     ]
    }
   ],
   "source": [
    "def finding_smallest_missing_positive(l1): \n",
    "    l1 = list(sorted(l1))\n",
    "    \n",
    "    if 1 not in l1:\n",
    "        missing_number = 1 \n",
    "    \n",
    "    else : \n",
    "        for e in l1:\n",
    "            if e == 0:\n",
    "                missing_number = e + 1\n",
    "             \n",
    "            elif e > 0: \n",
    "                #print(e)\n",
    "                next_num = e + 1\n",
    "                #print(next_num)\n",
    "                if next_num not in l1: \n",
    "                    missing_number = next_num\n",
    "                    break\n",
    "    \n",
    "    return missing_number\n",
    "\n",
    "e1 = [2, 3, 7, 6, 8, -1, -10, 15]\n",
    "e2 = [1, 1, 0, -1, -2]\n",
    "e3 = [2, 3, -7, 6, 8, 4, 1, -10, 15]\n",
    "e4 = [7,8,9,10]\n",
    "\n",
    "print(f'Smallest missing positive number in {e1} : {finding_smallest_missing_positive(e1)}')\n",
    "print(f'Smallest missing positive number in {e2} : {finding_smallest_missing_positive(e2)}')\n",
    "print(f'Smallest missing positive number in {e3} : {finding_smallest_missing_positive(e3)}')\n",
    "print(f'Smallest missing positive number in {e4} : {finding_smallest_missing_positive(e4)}')"
   ]
  },
  {
   "cell_type": "markdown",
   "id": "3f5ecd65",
   "metadata": {},
   "source": [
    "42. Implement a function to find the longest palindrome substring in a given string."
   ]
  },
  {
   "cell_type": "code",
   "execution_count": 42,
   "id": "ed26c642",
   "metadata": {},
   "outputs": [
    {
     "name": "stdout",
     "output_type": "stream",
     "text": [
      "The longest palindrome substring in given string \"elephant\" : ele\n",
      "The longest palindrome substring in given string \"preposition\" : iti\n"
     ]
    }
   ],
   "source": [
    "\"\"\"\n",
    "We will try to get all the substrings using the function 'list_substrings'. \n",
    "Then in the second step we will find the length of the sub-strings which are palindrome and \n",
    "save it to a dict and finally obtain the longest palindrome substring.\n",
    "\"\"\"\n",
    "\n",
    "\n",
    "def list_substrings(word): \n",
    "    j = 0\n",
    "    substr_list = list()\n",
    "    for i in range(len(word)): \n",
    "        #if i < len(word)+1 : \n",
    "            j = i+1\n",
    "            for i in range(j): \n",
    "                #print(i, j)\n",
    "                sbstr = word[i:j]\n",
    "                substr_list.append(sbstr)\n",
    "    #print(substr_list)       \n",
    "    return substr_list\n",
    "\n",
    "def length_palindrome(subtrlist): \n",
    "    string_dict = dict()\n",
    "    #print(subtrlist)\n",
    "    for i in subtrlist: \n",
    "        if i == i[::-1]: \n",
    "            #print(i)\n",
    "            string_dict[i] = len(i)\n",
    "    \n",
    "    max_len = max(list(string_dict.values()))\n",
    "    longest_substring = list(string_dict.keys())[list(string_dict.values()).index(max_len)]\n",
    "    #print(string_dict)\n",
    "    return longest_substring\n",
    "    \n",
    "    \n",
    "def main_func(word):\n",
    "    substr = list_substrings(word)\n",
    "    l_p = length_palindrome(substr)\n",
    "    return l_p\n",
    "\n",
    "w1 = 'elephant'\n",
    "w2 = 'preposition'\n",
    "\n",
    "print(f'The longest palindrome substring in given string \"{w1}\" : {main_func(w1)}')\n",
    "print(f'The longest palindrome substring in given string \"{w2}\" : {main_func(w2)}')\n"
   ]
  },
  {
   "cell_type": "markdown",
   "id": "528e33fa",
   "metadata": {},
   "source": [
    "43. Write a program to find the number of occurrences of a given element in a list."
   ]
  },
  {
   "cell_type": "code",
   "execution_count": 43,
   "id": "e2e69943",
   "metadata": {},
   "outputs": [
    {
     "name": "stdout",
     "output_type": "stream",
     "text": [
      "{3: 2, 6: 2, 1: 3, 4: 2, 5: 1, 7: 1, 8: 1, 9: 1, 12: 1, 2: 1, 41: 1}\n"
     ]
    }
   ],
   "source": [
    "list4 = [3,6,1,3,1,4,5,6,7,8,9,12,2,4,41,1]\n",
    "dict_occ = dict()\n",
    "\n",
    "for e in list4: \n",
    "    dict_occ[e] = list4.count(e)\n",
    "    \n",
    "print(dict_occ)    "
   ]
  },
  {
   "cell_type": "markdown",
   "id": "c369ff4e",
   "metadata": {},
   "source": [
    "44. Implement a function to check if a given number is a perfect number."
   ]
  },
  {
   "cell_type": "code",
   "execution_count": 44,
   "id": "6e5e0327",
   "metadata": {},
   "outputs": [
    {
     "name": "stdout",
     "output_type": "stream",
     "text": [
      "28 is perfect number : True\n",
      "8128 is perfect number : True\n",
      "789 is perfect number : False\n",
      "496 is perfect number : True\n"
     ]
    }
   ],
   "source": [
    "def is_perfect_number(num): \n",
    "    f_lst = list()\n",
    "    for i in range(1, num):\n",
    "        if num%i == 0: \n",
    "            f_lst.append(i)\n",
    "        else : \n",
    "            continue\n",
    "    #print(f_lst, sum(f_lst))    \n",
    "    if sum(f_lst) == num :         \n",
    "        return True\n",
    "    else : \n",
    "        return False\n",
    "\n",
    "\n",
    "n1 = 28\n",
    "n2 = 8128\n",
    "n3 = 789\n",
    "n4 = 496\n",
    "\n",
    "print(f'{n1} is perfect number : {is_perfect_number(n1)}')\n",
    "print(f'{n2} is perfect number : {is_perfect_number(n2)}')\n",
    "print(f'{n3} is perfect number : {is_perfect_number(n3)}')\n",
    "print(f'{n4} is perfect number : {is_perfect_number(n4)}')    "
   ]
  },
  {
   "cell_type": "markdown",
   "id": "1f058568",
   "metadata": {},
   "source": [
    "45. Write a Python program to remove all duplicates from a string."
   ]
  },
  {
   "cell_type": "code",
   "execution_count": 45,
   "id": "5341c1f1",
   "metadata": {},
   "outputs": [
    {
     "name": "stdout",
     "output_type": "stream",
     "text": [
      "Original list : [23, 67, 89, 32, 12, 89, 90, 32, 90, 12, 23]\n",
      "List after removing the duplicates : [32, 67, 12, 23, 89, 90]\n"
     ]
    }
   ],
   "source": [
    "def remove_duplicate(mylist3): \n",
    "    nl = set(mylist3)\n",
    "    return list(nl)\n",
    "\n",
    "\n",
    "mylist3 = [23, 67, 89, 32, 12, 89, 90, 32, 90, 12, 23]\n",
    "\n",
    "print(f'Original list : {mylist3}')\n",
    "print(f'List after removing the duplicates : {remove_duplicate(mylist3)}')"
   ]
  },
  {
   "cell_type": "markdown",
   "id": "53b41ca0",
   "metadata": {},
   "source": [
    "46. Implement a function to find the first missing positive"
   ]
  },
  {
   "cell_type": "code",
   "execution_count": 46,
   "id": "e84f23ed",
   "metadata": {},
   "outputs": [
    {
     "name": "stdout",
     "output_type": "stream",
     "text": [
      "First missing positive number in [2, 3, 7, 6, 8, -1, -10, 15] : 1\n",
      "First missing positive number in [1, 1, 0, -1, -2] : 2\n",
      "First missing positive number in [2, 3, -7, 6, 8, 4, 1, -10, 15] : 5\n",
      "First missing positive number in [7, 8, 9, 10] : 1\n"
     ]
    }
   ],
   "source": [
    "def finding_first_missing_positive(l1): \n",
    "    l1 = list(sorted(l1))\n",
    "    \n",
    "    if 1 not in l1:\n",
    "        missing_number = 1 \n",
    "    \n",
    "    else : \n",
    "        for e in l1:\n",
    "            if e == 0:\n",
    "                missing_number = e + 1\n",
    "             \n",
    "            elif e > 0: \n",
    "                #print(e)\n",
    "                next_num = e + 1\n",
    "                #print(next_num)\n",
    "                if next_num not in l1: \n",
    "                    missing_number = next_num\n",
    "                    break\n",
    "    \n",
    "    return missing_number\n",
    "\n",
    "e1 = [2, 3, 7, 6, 8, -1, -10, 15]\n",
    "e2 = [1, 1, 0, -1, -2]\n",
    "e3 = [2, 3, -7, 6, 8, 4, 1, -10, 15]\n",
    "e4 = [7,8,9,10]\n",
    "\n",
    "print(f'First missing positive number in {e1} : {finding_first_missing_positive(e1)}')\n",
    "print(f'First missing positive number in {e2} : {finding_first_missing_positive(e2)}')\n",
    "print(f'First missing positive number in {e3} : {finding_first_missing_positive(e3)}')\n",
    "print(f'First missing positive number in {e4} : {finding_first_missing_positive(e4)}')"
   ]
  },
  {
   "cell_type": "code",
   "execution_count": null,
   "id": "4e00dac1",
   "metadata": {},
   "outputs": [],
   "source": []
  }
 ],
 "metadata": {
  "kernelspec": {
   "display_name": "Python 3",
   "language": "python",
   "name": "python3"
  },
  "language_info": {
   "codemirror_mode": {
    "name": "ipython",
    "version": 3
   },
   "file_extension": ".py",
   "mimetype": "text/x-python",
   "name": "python",
   "nbconvert_exporter": "python",
   "pygments_lexer": "ipython3",
   "version": "3.8.8"
  }
 },
 "nbformat": 4,
 "nbformat_minor": 5
}
